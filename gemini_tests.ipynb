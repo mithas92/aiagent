{
 "cells": [
  {
   "cell_type": "markdown",
   "id": "aaac44f7",
   "metadata": {},
   "source": [
    "### Run quick tests to check up on the code. \n",
    "Not part of the answers\n"
   ]
  },
  {
   "cell_type": "code",
   "execution_count": null,
   "id": "1d3df294",
   "metadata": {},
   "outputs": [],
   "source": [
    "import os\n",
    "from dotenv import load_dotenv\n",
    "from google import genai\n",
    "\n",
    "load_dotenv()\n",
    "api_key = os.environ.get(\"GEMINI_API_KEY\")\n",
    "\n",
    "\n"
   ]
  },
  {
   "cell_type": "code",
   "execution_count": 4,
   "id": "03521899",
   "metadata": {},
   "outputs": [
    {
     "name": "stdout",
     "output_type": "stream",
     "text": [
      "Boot.dev offers a focused, project-based curriculum specifically designed for aspiring backend developers. It provides hands-on learning with real-world projects, immediate feedback through automated tests, and a supportive community to help you learn by doing. This practical approach, coupled with its comprehensive content covering relevant technologies like Go, SQL, and system design, makes it an effective and engaging platform for mastering backend skills.\n",
      "\n"
     ]
    }
   ],
   "source": [
    "client  = genai.Client(api_key=api_key)\n",
    "\n",
    "response = client.models.generate_content(\n",
    "    model='gemini-2.0-flash-001', \n",
    "    contents='Why is Boot.dev such a great place to learn backend development? Use one paragraph maximum.'\n",
    ")\n",
    "\n",
    "print(response.text)"
   ]
  },
  {
   "cell_type": "code",
   "execution_count": 10,
   "id": "83e2bab9",
   "metadata": {},
   "outputs": [
    {
     "name": "stdout",
     "output_type": "stream",
     "text": [
      "Prompt tokens: 19\n",
      "Response tokens: 81\n"
     ]
    }
   ],
   "source": [
    "print(f\"Prompt tokens: {response.usage_metadata.prompt_token_count}\")\n",
    "print(f\"Response tokens: {response.usage_metadata.candidates_token_count}\")      "
   ]
  },
  {
   "cell_type": "code",
   "execution_count": null,
   "id": "342bd8ee",
   "metadata": {},
   "outputs": [],
   "source": []
  }
 ],
 "metadata": {
  "kernelspec": {
   "display_name": "bootgame",
   "language": "python",
   "name": "python3"
  },
  "language_info": {
   "codemirror_mode": {
    "name": "ipython",
    "version": 3
   },
   "file_extension": ".py",
   "mimetype": "text/x-python",
   "name": "python",
   "nbconvert_exporter": "python",
   "pygments_lexer": "ipython3",
   "version": "3.12.7"
  }
 },
 "nbformat": 4,
 "nbformat_minor": 5
}
